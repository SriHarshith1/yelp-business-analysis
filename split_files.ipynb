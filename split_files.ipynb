{
 "cells": [
  {
   "cell_type": "code",
   "execution_count": 10,
   "id": "5d8d5d67",
   "metadata": {},
   "outputs": [
    {
     "name": "stdout",
     "output_type": "stream",
     "text": [
      "Total lines: 6990280, Lines per file: 233009\n"
     ]
    }
   ],
   "source": [
    "import json\n",
    "\n",
    "input_file = \"yelp_dataset.json\"\n",
    "output_file_prefix = \"file\"\n",
    "num_files = 30\n",
    "\n",
    "# Reading the file and counting the total number of lines in the file\n",
    "with open(input_file, \"r\", encoding=\"utf8\") as f:\n",
    "    total_lines = sum(1 for _ in f)\n",
    "    \n",
    "lines_per_file = total_lines // num_files\n",
    "\n",
    "print(f\"Total lines: {total_lines}, Lines per file: {lines_per_file}\")\n",
    "\n",
    "# Splitting the files into smaller files\n",
    "with open(input_file, \"r\", encoding=\"utf8\") as f:\n",
    "    for i in range(num_files):\n",
    "        output_filename = f\"{output_file_prefix}{i+1}.json\"\n",
    "        \n",
    "        with open(output_filename, \"w\", encoding=\"utf8\") as out_file:\n",
    "            for j in range(lines_per_file):\n",
    "                line = f.readline()\n",
    "                if not line:\n",
    "                    break  # Stop if file ends early\n",
    "                out_file.write(line)\n",
    "    \n",
    "    # Handle remaining lines for the last file if there are any\n",
    "    remaining_lines = total_lines % num_files\n",
    "    if remaining_lines > 0:\n",
    "        output_filename = f\"{output_file_prefix}{num_files}.json\"\n",
    "        with open(output_filename, \"a\", encoding=\"utf8\") as out_file:  # Append mode\n",
    "            for j in range(remaining_lines):\n",
    "                line = f.readline()\n",
    "                if not line:\n",
    "                    break\n",
    "                out_file.write(line)"
   ]
  }
 ],
 "metadata": {
  "kernelspec": {
   "display_name": "Python 3",
   "language": "python",
   "name": "python3"
  },
  "language_info": {
   "codemirror_mode": {
    "name": "ipython",
    "version": 3
   },
   "file_extension": ".py",
   "mimetype": "text/x-python",
   "name": "python",
   "nbconvert_exporter": "python",
   "pygments_lexer": "ipython3",
   "version": "3.13.3"
  }
 },
 "nbformat": 4,
 "nbformat_minor": 5
}
